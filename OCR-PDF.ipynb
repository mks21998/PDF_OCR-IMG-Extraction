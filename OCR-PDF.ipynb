{
 "cells": [
  {
   "cell_type": "code",
   "execution_count": 84,
   "metadata": {},
   "outputs": [],
   "source": [
    "#importing libraries\n",
    "import io\n",
    "from PIL import Image\n",
    "import pytesseract\n",
    "from wand.image import Image as wi"
   ]
  },
  {
   "cell_type": "code",
   "execution_count": 85,
   "metadata": {},
   "outputs": [],
   "source": [
    "#locating file to work on\n",
    "pdf = wi(filename = \"SHANTHI-POOLHOUSE.pdf\", resolution = 300)\n",
    "pdfImage = pdf.convert('jpeg')"
   ]
  },
  {
   "cell_type": "code",
   "execution_count": 86,
   "metadata": {},
   "outputs": [],
   "source": [
    "imageBlobs = []"
   ]
  },
  {
   "cell_type": "code",
   "execution_count": 87,
   "metadata": {},
   "outputs": [],
   "source": [
    "# make the PDF file ready for OCR\n",
    "for img in pdfImage.sequence:\n",
    "\timgPage = wi(image = img)\n",
    "\timageBlobs.append(imgPage.make_blob('jpeg'))"
   ]
  },
  {
   "cell_type": "code",
   "execution_count": 88,
   "metadata": {},
   "outputs": [],
   "source": [
    "# Text extraction - OCR\n",
    "recognized_text = []\n",
    "\n",
    "for imgBlob in imageBlobs:\n",
    "\tim = Image.open(io.BytesIO(imgBlob))\n",
    "\ttext = pytesseract.image_to_string(im, lang = 'eng')\n",
    "\trecognized_text.append(text)"
   ]
  },
  {
   "cell_type": "code",
   "execution_count": null,
   "metadata": {},
   "outputs": [],
   "source": [
    "#visualization of result\n",
    "print(recognized_text[0])"
   ]
  },
  {
   "cell_type": "code",
   "execution_count": 90,
   "metadata": {},
   "outputs": [],
   "source": [
    "#Writing the result in Output_pdf file\n",
    "file = open('Output_pdf.txt',\"a\")\n",
    "str1 = ''.join(recognized_text)\n",
    "file.write(str1)"
   ]
  },
  {
   "cell_type": "code",
   "execution_count": 93,
   "metadata": {},
   "outputs": [],
   "source": [
    "# Extracting the image \n",
    "pdf = wi(filename=\"SHANTHI-POOLHOUSE.pdf\", resolution=300)\n",
    "pdfimage = pdf.convert(\"jpeg\")\n",
    "i=1\n",
    "for img in pdfimage.sequence:\n",
    "    page = wi(image=img)\n",
    "    page.save(filename=str(i)+\".jpg\")\n",
    "    i +=1"
   ]
  }
 ],
 "metadata": {
  "kernelspec": {
   "display_name": "Python 3",
   "language": "python",
   "name": "python3"
  },
  "language_info": {
   "codemirror_mode": {
    "name": "ipython",
    "version": 3
   },
   "file_extension": ".py",
   "mimetype": "text/x-python",
   "name": "python",
   "nbconvert_exporter": "python",
   "pygments_lexer": "ipython3",
   "version": "3.7.3"
  }
 },
 "nbformat": 4,
 "nbformat_minor": 2
}
